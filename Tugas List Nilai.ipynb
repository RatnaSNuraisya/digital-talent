{
 "cells": [
  {
   "cell_type": "markdown",
   "metadata": {},
   "source": [
    "# Assignment 2\n",
    "By Ratna Siti Nuraisya, Big Data - Class B"
   ]
  },
  {
   "cell_type": "code",
   "execution_count": 11,
   "metadata": {},
   "outputs": [
    {
     "name": "stdout",
     "output_type": "stream",
     "text": [
      "[37, 35, 55, 80, 65, 22, 47, 8, 48, 46, 86, 78, 36, 27, 82, 37, 14, 5, 7, 68, 30, 36, 91, 92, 68, 52, 25, 79, 9, 8, 99, 28, 8, 9, 98, 97, 70, 18, 19, 42, 35, 96, 22, 11, 82, 91, 7, 46, 63, 18, 16, 37, 12, 34, 36, 19, 61, 34, 99, 22, 83, 27, 13, 31, 16, 45, 77, 27, 43, 98, 76, 73, 34, 40, 81, 43, 67, 28, 26, 8, 19, 76, 6, 12, 23, 56, 54, 64, 15, 13, 70, 8, 31, 51, 66, 60, 66, 82, 26, 13, 8, 71, 11, 30, 79, 88, 4, 32, 20, 51, 23, 79, 33, 33, 51, 27, 52, 36, 39, 1, 46, 34, 81, 47, 20, 14, 30, 56, 70, 81, 41, 45, 58, 46, 9, 81, 62, 33, 32, 96, 6, 19, 1, 85, 97, 30, 1, 87, 40, 31, 77, 31, 71, 87, 42, 79, 90, 36, 70, 75, 34, 86, 58, 59, 13, 74, 25, 91, 31, 63, 51, 59, 38, 29, 66, 40, 93, 83, 83, 75, 73, 71, 28, 94, 54, 10, 31, 6, 31, 6, 70, 54, 43, 75, 55, 59, 45, 88, 92, 41, 24, 40, 52, 6, 20, 31, 1, 78, 87, 75, 97, 12, 60, 57, 11, 56, 82, 20, 50, 90, 43, 45, 32, 73, 80, 90, 16, 5, 2, 5, 54, 84, 50, 20, 78, 74, 62, 31, 67, 97, 61, 92, 58, 39, 3, 23, 61, 76, 12, 61]\n"
     ]
    }
   ],
   "source": [
    "import random\n",
    "\n",
    "# GENERATE RANDOM\n",
    "nilaiTugas = []\n",
    "for i in range(250):\n",
    "    nilaiTugas.append(random.randrange(1,100,1))\n",
    "\n",
    "print(nilaiTugas)"
   ]
  },
  {
   "cell_type": "markdown",
   "metadata": {},
   "source": [
    "#### Soal\n",
    "\n",
    "1. Tampilkan Angka Ganjil dari ke 250 nilai tersebut\n",
    "2. Tampilkan berapa banyak yang mendapatkan nilai lebih dari 70\n",
    "3. Tampilkan standar deviasi dari sekumpulan nilai tersebut\n",
    "4. Tampilkan nilai maksimum dan minimum\n",
    "5. Tampilkan modus dari sekumpulan nilai tersebut"
   ]
  },
  {
   "cell_type": "code",
   "execution_count": 68,
   "metadata": {},
   "outputs": [
    {
     "name": "stdout",
     "output_type": "stream",
     "text": [
      "[37, 35, 55, 65, 47, 27, 37, 5, 7, 91, 25, 79, 9, 99, 9, 97, 19, 35, 11, 91, 7, 63, 37, 19, 61, 99, 83, 27, 13, 31, 45, 77, 27, 43, 73, 81, 43, 67, 19, 23, 15, 13, 31, 51, 13, 71, 11, 79, 51, 23, 79, 33, 33, 51, 27, 39, 1, 81, 47, 81, 41, 45, 9, 81, 33, 19, 1, 85, 97, 1, 87, 31, 77, 31, 71, 87, 79, 75, 59, 13, 25, 91, 31, 63, 51, 59, 29, 93, 83, 83, 75, 73, 71, 31, 31, 43, 75, 55, 59, 45, 41, 31, 1, 87, 75, 97, 57, 11, 43, 45, 73, 5, 5, 31, 67, 97, 61, 39, 3, 23, 61, 61]\n"
     ]
    }
   ],
   "source": [
    "# Odd Numbers\n",
    "odd = []\n",
    "for n in nilaiTugas:\n",
    "    if n%2 != 0:\n",
    "        odd.append(n)\n",
    "print(odd)"
   ]
  },
  {
   "cell_type": "code",
   "execution_count": 71,
   "metadata": {},
   "outputs": [
    {
     "name": "stdout",
     "output_type": "stream",
     "text": [
      "[80, 86, 78, 82, 91, 92, 79, 99, 98, 97, 96, 82, 91, 99, 83, 77, 98, 76, 73, 81, 76, 82, 71, 79, 88, 79, 81, 81, 81, 96, 85, 97, 87, 77, 71, 87, 79, 90, 75, 86, 74, 91, 93, 83, 83, 75, 73, 71, 94, 75, 88, 92, 78, 87, 75, 97, 82, 90, 73, 80, 90, 84, 78, 74, 97, 92, 76]\n",
      "The number of scores that are more than 70 = 67\n"
     ]
    }
   ],
   "source": [
    "# More Than  70\n",
    "score = []\n",
    "for n in nilaiTugas:\n",
    "    if n>70:\n",
    "        score.append(n)\n",
    "print(score)\n",
    "print('The number of scores that are more than 70 =', len(score))\n"
   ]
  },
  {
   "cell_type": "code",
   "execution_count": 104,
   "metadata": {},
   "outputs": [
    {
     "name": "stdout",
     "output_type": "stream",
     "text": [
      "mean: 47.496\n",
      "distance: 196410.496\n",
      "The standard deviation is 392.82099200000005\n"
     ]
    }
   ],
   "source": [
    "# Standard Deviation\n",
    "n = len(nilaiTugas)\n",
    "mean = sum(nilaiTugas)/n\n",
    "print ('mean:', mean)\n",
    "\n",
    "m = mean\n",
    "d = round((sum((x-m)**2 for x in nilaiTugas)),3)\n",
    "print ('distance:',d)\n",
    "\n",
    "s = d/n\n",
    "sd = (s)**1/2\n",
    "print ('The standard deviation is', sd)"
   ]
  },
  {
   "cell_type": "code",
   "execution_count": 69,
   "metadata": {},
   "outputs": [
    {
     "name": "stdout",
     "output_type": "stream",
     "text": [
      "The maximum score is 99\n",
      "The minimum score is 1\n"
     ]
    }
   ],
   "source": [
    "# Maximum & Minimum\n",
    "Max = 0\n",
    "for n in nilaiTugas:\n",
    "    if n > Max:\n",
    "        Max = n\n",
    "print('The maximum score is', Max )\n",
    "\n",
    "for n in nilaiTugas:\n",
    "    if n < Max:\n",
    "        Max = n\n",
    "print('The minimum score is', Max )"
   ]
  },
  {
   "cell_type": "code",
   "execution_count": 73,
   "metadata": {},
   "outputs": [
    {
     "name": "stdout",
     "output_type": "stream",
     "text": [
      "The mode is 31\n"
     ]
    }
   ],
   "source": [
    "# Mode\n",
    "hits = []\n",
    "for item in nilaiTugas:\n",
    "    tally = nilaiTugas.count(item)\n",
    "    values = (tally, item)\n",
    "    if values not in hits:\n",
    "        hits.append(values)\n",
    "hits.sort(reverse=True)\n",
    "print('The mode is', hits[0][1])\n"
   ]
  },
  {
   "cell_type": "code",
   "execution_count": null,
   "metadata": {},
   "outputs": [],
   "source": []
  }
 ],
 "metadata": {
  "kernelspec": {
   "display_name": "Python 3",
   "language": "python",
   "name": "python3"
  },
  "language_info": {
   "codemirror_mode": {
    "name": "ipython",
    "version": 3
   },
   "file_extension": ".py",
   "mimetype": "text/x-python",
   "name": "python",
   "nbconvert_exporter": "python",
   "pygments_lexer": "ipython3",
   "version": "3.7.0"
  }
 },
 "nbformat": 4,
 "nbformat_minor": 2
}
