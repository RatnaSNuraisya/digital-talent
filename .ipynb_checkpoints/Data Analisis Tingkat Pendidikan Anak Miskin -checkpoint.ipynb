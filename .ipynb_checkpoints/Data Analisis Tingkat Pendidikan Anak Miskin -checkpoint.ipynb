{
 "cells": [
  {
   "cell_type": "markdown",
   "metadata": {},
   "source": [
    "# Poverty-Stricken Children's Education Level Data Analysis\n",
    "By Ratna Siti Nuraisya, Big Data - Class B"
   ]
  },
  {
   "cell_type": "code",
   "execution_count": 1,
   "metadata": {},
   "outputs": [],
   "source": [
    "import pandas as pd"
   ]
  },
  {
   "cell_type": "code",
   "execution_count": 2,
   "metadata": {},
   "outputs": [],
   "source": [
    "data_pendidikan = pd.read_csv('tingkat pendidikan anak miskin juli 2012.csv', delimiter = ',', encoding = \"ISO-8859-1\")"
   ]
  },
  {
   "cell_type": "code",
   "execution_count": 21,
   "metadata": {
    "scrolled": false
   },
   "outputs": [
    {
     "data": {
      "text/html": [
       "<div>\n",
       "<style scoped>\n",
       "    .dataframe tbody tr th:only-of-type {\n",
       "        vertical-align: middle;\n",
       "    }\n",
       "\n",
       "    .dataframe tbody tr th {\n",
       "        vertical-align: top;\n",
       "    }\n",
       "\n",
       "    .dataframe thead th {\n",
       "        text-align: right;\n",
       "    }\n",
       "</style>\n",
       "<table border=\"1\" class=\"dataframe\">\n",
       "  <thead>\n",
       "    <tr style=\"text-align: right;\">\n",
       "      <th></th>\n",
       "      <th>kode_provinsi</th>\n",
       "      <th>nama_provinsi</th>\n",
       "      <th>tingkat_pendidikan</th>\n",
       "      <th>jenis_kelamin</th>\n",
       "      <th>jumlah_individu</th>\n",
       "    </tr>\n",
       "  </thead>\n",
       "  <tbody>\n",
       "    <tr>\n",
       "      <th>267</th>\n",
       "      <td>61</td>\n",
       "      <td>Prov. Kalimantan Barat</td>\n",
       "      <td>M. Aliyah</td>\n",
       "      <td>Perempuan</td>\n",
       "      <td>601</td>\n",
       "    </tr>\n",
       "    <tr>\n",
       "      <th>408</th>\n",
       "      <td>81</td>\n",
       "      <td>Prov. Maluku</td>\n",
       "      <td>M. Ibtidaiyah</td>\n",
       "      <td>Laki-Laki</td>\n",
       "      <td>1394</td>\n",
       "    </tr>\n",
       "    <tr>\n",
       "      <th>329</th>\n",
       "      <td>71</td>\n",
       "      <td>Prov. Sulawesi Utara</td>\n",
       "      <td>Perguruan Tinggi</td>\n",
       "      <td>Perempuan</td>\n",
       "      <td>1661</td>\n",
       "    </tr>\n",
       "    <tr>\n",
       "      <th>386</th>\n",
       "      <td>75</td>\n",
       "      <td>Prov. Gorontalo</td>\n",
       "      <td>SD/SDLB/Paket A</td>\n",
       "      <td>Laki-Laki</td>\n",
       "      <td>36855</td>\n",
       "    </tr>\n",
       "    <tr>\n",
       "      <th>268</th>\n",
       "      <td>61</td>\n",
       "      <td>Prov. Kalimantan Barat</td>\n",
       "      <td>M. Ibtidaiyah</td>\n",
       "      <td>Laki-Laki</td>\n",
       "      <td>4557</td>\n",
       "    </tr>\n",
       "    <tr>\n",
       "      <th>204</th>\n",
       "      <td>35</td>\n",
       "      <td>Prov. Jawa Timur</td>\n",
       "      <td>SD/SDLB/Paket A</td>\n",
       "      <td>Laki-Laki</td>\n",
       "      <td>770562</td>\n",
       "    </tr>\n",
       "    <tr>\n",
       "      <th>318</th>\n",
       "      <td>64</td>\n",
       "      <td>Prov. Kalimantan Timur</td>\n",
       "      <td>SMA/SMK/SMALB/Paket C</td>\n",
       "      <td>Laki-Laki</td>\n",
       "      <td>13455</td>\n",
       "    </tr>\n",
       "    <tr>\n",
       "      <th>279</th>\n",
       "      <td>61</td>\n",
       "      <td>Prov. Kalimantan Barat</td>\n",
       "      <td>SMPT/SMPLB/Paket B</td>\n",
       "      <td>Perempuan</td>\n",
       "      <td>26677</td>\n",
       "    </tr>\n",
       "    <tr>\n",
       "      <th>203</th>\n",
       "      <td>35</td>\n",
       "      <td>Prov. Jawa Timur</td>\n",
       "      <td>Perguruan Tinggi</td>\n",
       "      <td>Perempuan</td>\n",
       "      <td>7630</td>\n",
       "    </tr>\n",
       "    <tr>\n",
       "      <th>198</th>\n",
       "      <td>35</td>\n",
       "      <td>Prov. Jawa Timur</td>\n",
       "      <td>M. Ibtidaiyah</td>\n",
       "      <td>Laki-Laki</td>\n",
       "      <td>102767</td>\n",
       "    </tr>\n",
       "    <tr>\n",
       "      <th>93</th>\n",
       "      <td>17</td>\n",
       "      <td>Prov. Bengkulu</td>\n",
       "      <td>SD/SDLB/Paket A</td>\n",
       "      <td>Perempuan</td>\n",
       "      <td>41552</td>\n",
       "    </tr>\n",
       "    <tr>\n",
       "      <th>337</th>\n",
       "      <td>72</td>\n",
       "      <td>Prov. Sulawesi Tengah</td>\n",
       "      <td>M. Aliyah</td>\n",
       "      <td>Perempuan</td>\n",
       "      <td>924</td>\n",
       "    </tr>\n",
       "    <tr>\n",
       "      <th>48</th>\n",
       "      <td>14</td>\n",
       "      <td>Prov. Riau</td>\n",
       "      <td>Perguruan Tinggi</td>\n",
       "      <td>Laki-Laki</td>\n",
       "      <td>2405</td>\n",
       "    </tr>\n",
       "    <tr>\n",
       "      <th>263</th>\n",
       "      <td>53</td>\n",
       "      <td>Prov. Nusa Tenggara Timur</td>\n",
       "      <td>SMA/SMK/SMALB/Paket C</td>\n",
       "      <td>Perempuan</td>\n",
       "      <td>24198</td>\n",
       "    </tr>\n",
       "    <tr>\n",
       "      <th>432</th>\n",
       "      <td>82</td>\n",
       "      <td>Prov. Maluku Utara</td>\n",
       "      <td>SMPT/SMPLB/Paket B</td>\n",
       "      <td>Laki-Laki</td>\n",
       "      <td>9914</td>\n",
       "    </tr>\n",
       "    <tr>\n",
       "      <th>77</th>\n",
       "      <td>16</td>\n",
       "      <td>Prov. Sumatera Selatan</td>\n",
       "      <td>Perguruan Tinggi</td>\n",
       "      <td>Perempuan</td>\n",
       "      <td>2100</td>\n",
       "    </tr>\n",
       "    <tr>\n",
       "      <th>323</th>\n",
       "      <td>71</td>\n",
       "      <td>Prov. Sulawesi Utara</td>\n",
       "      <td>M. Aliyah</td>\n",
       "      <td>Perempuan</td>\n",
       "      <td>238</td>\n",
       "    </tr>\n",
       "    <tr>\n",
       "      <th>189</th>\n",
       "      <td>34</td>\n",
       "      <td>Prov. D I Yogyakarta</td>\n",
       "      <td>Perguruan Tinggi</td>\n",
       "      <td>Perempuan</td>\n",
       "      <td>2222</td>\n",
       "    </tr>\n",
       "    <tr>\n",
       "      <th>88</th>\n",
       "      <td>17</td>\n",
       "      <td>Prov. Bengkulu</td>\n",
       "      <td>M. Tsanawiyah</td>\n",
       "      <td>Laki-Laki</td>\n",
       "      <td>724</td>\n",
       "    </tr>\n",
       "    <tr>\n",
       "      <th>42</th>\n",
       "      <td>14</td>\n",
       "      <td>Prov. Riau</td>\n",
       "      <td>M. Aliyah</td>\n",
       "      <td>Laki-Laki</td>\n",
       "      <td>1357</td>\n",
       "    </tr>\n",
       "  </tbody>\n",
       "</table>\n",
       "</div>"
      ],
      "text/plain": [
       "     kode_provinsi              nama_provinsi     tingkat_pendidikan  \\\n",
       "267             61     Prov. Kalimantan Barat              M. Aliyah   \n",
       "408             81               Prov. Maluku          M. Ibtidaiyah   \n",
       "329             71       Prov. Sulawesi Utara       Perguruan Tinggi   \n",
       "386             75            Prov. Gorontalo        SD/SDLB/Paket A   \n",
       "268             61     Prov. Kalimantan Barat          M. Ibtidaiyah   \n",
       "204             35           Prov. Jawa Timur        SD/SDLB/Paket A   \n",
       "318             64     Prov. Kalimantan Timur  SMA/SMK/SMALB/Paket C   \n",
       "279             61     Prov. Kalimantan Barat     SMPT/SMPLB/Paket B   \n",
       "203             35           Prov. Jawa Timur       Perguruan Tinggi   \n",
       "198             35           Prov. Jawa Timur          M. Ibtidaiyah   \n",
       "93              17             Prov. Bengkulu        SD/SDLB/Paket A   \n",
       "337             72      Prov. Sulawesi Tengah              M. Aliyah   \n",
       "48              14                 Prov. Riau       Perguruan Tinggi   \n",
       "263             53  Prov. Nusa Tenggara Timur  SMA/SMK/SMALB/Paket C   \n",
       "432             82         Prov. Maluku Utara     SMPT/SMPLB/Paket B   \n",
       "77              16     Prov. Sumatera Selatan       Perguruan Tinggi   \n",
       "323             71       Prov. Sulawesi Utara              M. Aliyah   \n",
       "189             34       Prov. D I Yogyakarta       Perguruan Tinggi   \n",
       "88              17             Prov. Bengkulu          M. Tsanawiyah   \n",
       "42              14                 Prov. Riau              M. Aliyah   \n",
       "\n",
       "    jenis_kelamin  jumlah_individu  \n",
       "267     Perempuan              601  \n",
       "408     Laki-Laki             1394  \n",
       "329     Perempuan             1661  \n",
       "386     Laki-Laki            36855  \n",
       "268     Laki-Laki             4557  \n",
       "204     Laki-Laki           770562  \n",
       "318     Laki-Laki            13455  \n",
       "279     Perempuan            26677  \n",
       "203     Perempuan             7630  \n",
       "198     Laki-Laki           102767  \n",
       "93      Perempuan            41552  \n",
       "337     Perempuan              924  \n",
       "48      Laki-Laki             2405  \n",
       "263     Perempuan            24198  \n",
       "432     Laki-Laki             9914  \n",
       "77      Perempuan             2100  \n",
       "323     Perempuan              238  \n",
       "189     Perempuan             2222  \n",
       "88      Laki-Laki              724  \n",
       "42      Laki-Laki             1357  "
      ]
     },
     "execution_count": 21,
     "metadata": {},
     "output_type": "execute_result"
    }
   ],
   "source": [
    "data_pendidikan.sample(20)"
   ]
  },
  {
   "cell_type": "code",
   "execution_count": 82,
   "metadata": {},
   "outputs": [
    {
     "data": {
      "text/plain": [
       "Index(['kode_provinsi', 'nama_provinsi', 'tingkat_pendidikan', 'jenis_kelamin',\n",
       "       'jumlah_individu'],\n",
       "      dtype='object')"
      ]
     },
     "execution_count": 82,
     "metadata": {},
     "output_type": "execute_result"
    }
   ],
   "source": [
    "data_pendidikan.columns"
   ]
  },
  {
   "cell_type": "markdown",
   "metadata": {},
   "source": [
    "## Descriptive Data"
   ]
  },
  {
   "cell_type": "code",
   "execution_count": 1,
   "metadata": {},
   "outputs": [],
   "source": [
    "f = open('data pendidikan anak miskin.txt','w')\n",
    "f.write(\"The table above was extracted from http://data.go.id and consists of columns kode_provinsi, nama_provinsi, tingkat_pendidikan, jenis_kelamin, and jumlah_individu.\\n\")\n",
    "f.write(\"It also shows twenty samples out of 462 data of proverty-stricken children's education level in Indonesia as of July 2012. The data consists of total numbers of girls and boys respectively, from thirty four provinces in Indonesia who lives under poverty, that goes to school. We can also see that there are seven levels of education in Indonesia, SD/SDLB/Paket A, M. Ibtidaiyah, SMPT/SMPLB/Paket B, M. Tsanawiyah, SMA/SMK/SMALB/Paket C, M. Aliyah, and Perguruan Tinggi.\\n\")\n",
    "f.write(\"Please scroll down for more detalied analysis and explanation.\")\n",
    "f.close()"
   ]
  },
  {
   "cell_type": "code",
   "execution_count": 2,
   "metadata": {},
   "outputs": [
    {
     "name": "stdout",
     "output_type": "stream",
     "text": [
      "The table above was extracted from http://data.go.id and consists of columns kode_provinsi, nama_provinsi, tingkat_pendidikan, jenis_kelamin, and jumlah_individu.\n",
      "It also shows twenty samples out of 462 data of proverty-stricken children's education level in Indonesia as of July 2012. The data consists of total numbers of girls and boys respectively, from thirty four provinces in Indonesia who lives under poverty, that goes to school. We can also see that there are seven levels of education in Indonesia, SD/SDLB/Paket A, M. Ibtidaiyah, SMPT/SMPLB/Paket B, M. Tsanawiyah, SMA/SMK/SMALB/Paket C, M. Aliyah, and Perguruan Tinggi.\n",
      "Please scroll down for more detalied analysis and explanation.\n"
     ]
    }
   ],
   "source": [
    "fo = open('data pendidikan anak miskin.txt','r')\n",
    "print(fo.read())\n",
    "fo.close()"
   ]
  },
  {
   "cell_type": "markdown",
   "metadata": {},
   "source": [
    "## Statistical Data\n",
    "- With analysis naration"
   ]
  },
  {
   "cell_type": "code",
   "execution_count": 35,
   "metadata": {},
   "outputs": [
    {
     "data": {
      "text/plain": [
       "kode_provinsi         462\n",
       "nama_provinsi         462\n",
       "tingkat_pendidikan    462\n",
       "jenis_kelamin         462\n",
       "jumlah_individu       462\n",
       "dtype: int64"
      ]
     },
     "execution_count": 35,
     "metadata": {},
     "output_type": "execute_result"
    }
   ],
   "source": [
    "data_pendidikan.count()"
   ]
  },
  {
   "cell_type": "markdown",
   "metadata": {},
   "source": [
    "This shows the total number of data for all categories shown in the table."
   ]
  },
  {
   "cell_type": "code",
   "execution_count": 59,
   "metadata": {},
   "outputs": [
    {
     "name": "stdout",
     "output_type": "stream",
     "text": [
      "The total number of students: 17601023\n",
      "========================================================================\n",
      "kode_provinsi                 11\n",
      "nama_provinsi         Prov. Bali\n",
      "tingkat_pendidikan     M. Aliyah\n",
      "jenis_kelamin          Laki-Laki\n",
      "jumlah_individu               22\n",
      "dtype: object\n",
      "========================================================================\n",
      "kode_provinsi                           94\n",
      "nama_provinsi         Prov. Sumatera Utara\n",
      "tingkat_pendidikan      SMPT/SMPLB/Paket B\n",
      "jenis_kelamin                    Perempuan\n",
      "jumlah_individu                     972960\n",
      "dtype: object\n",
      "========================================================================\n",
      "The mean is: 38097.45\n",
      "========================================================================\n",
      "The median is: 5760.5\n"
     ]
    }
   ],
   "source": [
    "s = data_pendidikan.jumlah_individu.sum()\n",
    "mi = data_pendidikan.min()\n",
    "ma = data_pendidikan.max()\n",
    "me = round(data_pendidikan.jumlah_individu.mean(),2)\n",
    "md = data_pendidikan.jumlah_individu.median()\n",
    "\n",
    "print(\"The total number of students:\", s)\n",
    "print(\"========================================================================\")\n",
    "print(mi)\n",
    "print(\"========================================================================\")\n",
    "print(ma)\n",
    "print(\"========================================================================\")\n",
    "print(\"The mean is:\", me)\n",
    "print(\"========================================================================\")\n",
    "print(\"The median is:\", md)"
   ]
  },
  {
   "cell_type": "markdown",
   "metadata": {},
   "source": [
    "From the data above, we can see that a total of 17,601,023 poverty-stricken children were able to pursue their studies, between the lowest level of education, SD/SDLB/Paket A or M. Ibtidaiyah, and the highest level, which is Perguruan Tinggi. The results also shows the lowest number of male students that was attending M.Aliyah, which is 22, in Bali, and the highest number of 972,960 female students that went SMPT/SMPLB or took Paket B in Sumatera Utara. While the mean from the total number of students is 38097.45 and the median is 5760.5. "
   ]
  },
  {
   "cell_type": "code",
   "execution_count": 63,
   "metadata": {},
   "outputs": [
    {
     "data": {
      "text/plain": [
       "jenis_kelamin\n",
       "Laki-Laki    9094252\n",
       "Perempuan    8506771\n",
       "Name: jumlah_individu, dtype: int64"
      ]
     },
     "execution_count": 63,
     "metadata": {},
     "output_type": "execute_result"
    }
   ],
   "source": [
    "data_pendidikan.groupby('jenis_kelamin').sum()['jumlah_individu']"
   ]
  },
  {
   "cell_type": "markdown",
   "metadata": {},
   "source": [
    "From this data, it can be concluded that the number of Indonesian poverty-stricken male students (9,094,252) that goes to school between the level of elementary and tertiary education is higher than that of female students (8,506,771)."
   ]
  },
  {
   "cell_type": "markdown",
   "metadata": {},
   "source": [
    "## Data Visualizations\n",
    "- With analysis naration"
   ]
  },
  {
   "cell_type": "code",
   "execution_count": 137,
   "metadata": {
    "scrolled": false
   },
   "outputs": [
    {
     "name": "stdout",
     "output_type": "stream",
     "text": [
      "tingkat_pendidikan     jenis_kelamin\n",
      "M. Aliyah              Laki-Laki          63306\n",
      "                       Perempuan          72163\n",
      "M. Ibtidaiyah          Laki-Laki         352041\n",
      "                       Perempuan         342374\n",
      "M. Tsanawiyah          Laki-Laki         246910\n",
      "                       Perempuan         257372\n",
      "Perguruan Tinggi       Laki-Laki          82271\n",
      "                       Perempuan          95034\n",
      "SD/SDLB/Paket A        Laki-Laki        5706332\n",
      "                       Perempuan        5232556\n",
      "SMA/SMK/SMALB/Paket C  Laki-Laki         873060\n",
      "                       Perempuan         823915\n",
      "SMPT/SMPLB/Paket B     Laki-Laki        1770332\n",
      "                       Perempuan        1683357\n",
      "Name: jumlah_individu, dtype: int64\n",
      "========================================================================\n",
      "tingkat_pendidikan\n",
      "M. Aliyah                  135469\n",
      "M. Ibtidaiyah              694415\n",
      "M. Tsanawiyah              504282\n",
      "Perguruan Tinggi           177305\n",
      "SD/SDLB/Paket A          10938888\n",
      "SMA/SMK/SMALB/Paket C     1696975\n",
      "SMPT/SMPLB/Paket B        3453689\n",
      "Name: jumlah_individu, dtype: int64\n"
     ]
    }
   ],
   "source": [
    "g = data_pendidikan.groupby(['tingkat_pendidikan','jenis_kelamin']).sum()['jumlah_individu']\n",
    "t = data_pendidikan.groupby('tingkat_pendidikan').sum()['jumlah_individu']\n",
    "\n",
    "print(g)\n",
    "print(\"========================================================================\")\n",
    "print(t)"
   ]
  },
  {
   "cell_type": "code",
   "execution_count": 163,
   "metadata": {
    "scrolled": false
   },
   "outputs": [
    {
     "data": {
      "text/plain": [
       "Text(0,0.5,'Number of Students')"
      ]
     },
     "execution_count": 163,
     "metadata": {},
     "output_type": "execute_result"
    },
    {
     "data": {
      "image/png": "[encoded data removed]",
      "text/plain": [
       "<Figure size 720x288 with 1 Axes>"
      ]
     },
     "metadata": {
      "needs_background": "light"
     },
     "output_type": "display_data"
    }
   ],
   "source": [
    "ax = data_pendidikan.groupby('tingkat_pendidikan').sum()['jumlah_individu']\n",
    "ax = ax.plot(kind='bar', title =\"Number of Students based on Education Level\", legend=True, fontsize=12, figsize=(10,4))\n",
    "ax.set_xlabel(\"Education Level\", fontsize=12)\n",
    "ax.set_ylabel(\"Number of Students\", fontsize=12)"
   ]
  },
  {
   "cell_type": "markdown",
   "metadata": {},
   "source": [
    "From the results and graph above, in July 2012 it can be seen that most of the poverty-stricken children in Indonesia were able to take an elementary education level with a high number of 10,938,888 students. While only a number of 177,305 students were able to reach to tertiary education level. Furthermore, not many prefer or able to go to M. Aliyah as it only has 135,469 number of students. "
   ]
  },
  {
   "cell_type": "code",
   "execution_count": 154,
   "metadata": {},
   "outputs": [
    {
     "data": {
      "text/plain": [
       "nama_provinsi\n",
       "Prov. Bali                          182662\n",
       "Prov. Banten                        671265\n",
       "Prov. Bengkulu                      140316\n",
       "Prov. D I Yogyakarta                241261\n",
       "Prov. DKI Jakarta                   300180\n",
       "Prov. Gorontalo                     107458\n",
       "Prov. Jambi                         197117\n",
       "Prov. Jawa Barat                   2906833\n",
       "Prov. Jawa Tengah                  2443146\n",
       "Prov. Jawa Timur                   2567860\n",
       "Prov. Kalimantan Barat              319462\n",
       "Prov. Kalimantan Selatan            162000\n",
       "Prov. Kalimantan Tengah             100103\n",
       "Prov. Kalimantan Timur              185795\n",
       "Prov. Kepulauan Bangka Belitung      45706\n",
       "Prov. Kepulauan Riau                 78925\n",
       "Prov. Lampung                       622841\n",
       "Prov. Maluku                        215413\n",
       "Prov. Maluku Utara                   97358\n",
       "Prov. Nanggroe Aceh Darussalam      542386\n",
       "Prov. Nusa Tenggara Barat           479415\n",
       "Prov. Nusa Tenggara Timur           663387\n",
       "Prov. Papua                         347199\n",
       "Prov. Papua Barat                   109452\n",
       "Prov. Riau                          329598\n",
       "Prov. Sulawesi Barat                112822\n",
       "Prov. Sulawesi Selatan              575684\n",
       "Prov. Sulawesi Tengah               255296\n",
       "Prov. Sulawesi Tenggara             231335\n",
       "Prov. Sulawesi Utara                196930\n",
       "Prov. Sumatera Barat                412072\n",
       "Prov. Sumatera Selatan              575407\n",
       "Prov. Sumatera Utara               1184339\n",
       "Name: jumlah_individu, dtype: int64"
      ]
     },
     "execution_count": 154,
     "metadata": {},
     "output_type": "execute_result"
    }
   ],
   "source": [
    "data_pendidikan.groupby('nama_provinsi').sum()['jumlah_individu']"
   ]
  },
  {
   "cell_type": "code",
   "execution_count": 164,
   "metadata": {},
   "outputs": [
    {
     "data": {
      "text/plain": [
       "Text(0,0.5,'Number of Students')"
      ]
     },
     "execution_count": 164,
     "metadata": {},
     "output_type": "execute_result"
    },
    {
     "data": {
      "image/png": "[encoded data removed]",
      "text/plain": [
       "<Figure size 1080x288 with 1 Axes>"
      ]
     },
     "metadata": {
      "needs_background": "light"
     },
     "output_type": "display_data"
    }
   ],
   "source": [
    "ax = data_pendidikan.groupby('nama_provinsi').sum()['jumlah_individu']\n",
    "ax = ax.plot(kind='bar', title =\"Number of Students based on Provinse\", legend=True, fontsize=12, figsize=(15,4))\n",
    "ax.set_xlabel(\"Province\", fontsize=12)\n",
    "ax.set_ylabel(\"Number of Students\", fontsize=12)"
   ]
  },
  {
   "cell_type": "markdown",
   "metadata": {},
   "source": [
    "Moreover, the above results shows that as of July 2012, Maluku Utara, Kepulauan Riau, Kepulauan Bangka Belitung province has the least number of poverty-stricken children who were able to go to school between elementary and tirtiary education level, with 97,358, 78,925, 45,706 students respectively. While Jawa Tengah, Jawa Timur, and Jawa Barat province has the highest number of students as they have the most population, with 2,443,146, 2,567,860, 2,906,833 students respectively."
   ]
  }
 ],
 "metadata": {
  "kernelspec": {
   "display_name": "Python 3",
   "language": "python",
   "name": "python3"
  },
  "language_info": {
   "codemirror_mode": {
    "name": "ipython",
    "version": 3
   },
   "file_extension": ".py",
   "mimetype": "text/x-python",
   "name": "python",
   "nbconvert_exporter": "python",
   "pygments_lexer": "ipython3",
   "version": "3.7.0"
  }
 },
 "nbformat": 4,
 "nbformat_minor": 2
}
