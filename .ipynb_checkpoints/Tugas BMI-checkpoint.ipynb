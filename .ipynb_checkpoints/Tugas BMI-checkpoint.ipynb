{
 "cells": [
  {
   "cell_type": "markdown",
   "metadata": {},
   "source": [
    "## BMI Calculator Assignment\n",
    "By Ratna Siti Nuraisya, Big Data - Class B"
   ]
  },
  {
   "cell_type": "code",
   "execution_count": 1,
   "metadata": {},
   "outputs": [
    {
     "name": "stdout",
     "output_type": "stream",
     "text": [
      "Enter your name here:Aisya\n",
      "Enter your height in centimeters:149\n",
      "Enter your weight in kilograms:52\n",
      "Aisya Your BMI is 23.42 You are normal(healthy weight)\n"
     ]
    }
   ],
   "source": [
    "name = input(\"Enter your name here:\")\n",
    "\n",
    "# Variables and Input\n",
    "height = float(input(\"Enter your height in centimeters:\"))\n",
    "weight = float(input(\"Enter your weight in kilograms:\"))\n",
    "bmi = round((weight / ((height/100)**2)),2)\n",
    "\n",
    "# Output and Conclusions\n",
    "if bmi<15:\n",
    "    print(name, \"Your BMI is\", (bmi), \"You are very severely underweight\")\n",
    "elif bmi>=15 and bmi<16:\n",
    "    print(name, \"Your BMI is\", (bmi), \"You are severely underweight\")\n",
    "elif bmi>=16 and bmi<18.5:\n",
    "    print(name, \"Your BMI is\", (bmi), \"You are underweight\")\n",
    "elif bmi>=18.5 and bmi<25:\n",
    "    print(name, \"Your BMI is\", (bmi), \"You are normal(healthy weight)\")\n",
    "elif bmi>=25 and bmi<30:\n",
    "    print(name, \"Your BMI is\", (bmi), \"You are overweight\")\n",
    "elif bmi>=30 and bmi<35:\n",
    "    print(name, \"Your BMI is\", (bmi), \"You are moderately obese\")\n",
    "elif bmi>=35 and bmi<40:\n",
    "    print(name, \"Your BMI is\", (bmi), \"You are severely obese\")\n",
    "else:\n",
    "    print(name, \"Your BMI is\", (bmi), \"You are very severely obese\")\n"
   ]
  }
 ],
 "metadata": {
  "kernelspec": {
   "display_name": "Python 3",
   "language": "python",
   "name": "python3"
  },
  "language_info": {
   "codemirror_mode": {
    "name": "ipython",
    "version": 3
   },
   "file_extension": ".py",
   "mimetype": "text/x-python",
   "name": "python",
   "nbconvert_exporter": "python",
   "pygments_lexer": "ipython3",
   "version": "3.7.0"
  }
 },
 "nbformat": 4,
 "nbformat_minor": 2
}
