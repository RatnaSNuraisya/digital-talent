{
 "cells": [
  {
   "cell_type": "markdown",
   "metadata": {},
   "source": [
    "# Word Count Assignment\n",
    "By Ratna Siti Nuraisya, Big Data - Class B"
   ]
  },
  {
   "cell_type": "code",
   "execution_count": 49,
   "metadata": {},
   "outputs": [
    {
     "name": "stdout",
     "output_type": "stream",
     "text": [
      "Barcelona berhasil merebut posisi puncak klasemen La Liga Spanyol seusai menang 4-2 atas Sevilla pada pertandingan pekan kesembilan di Stadion Camp Nou, Sabtu (20/10/2018) atau Minggu dini hari WIB. Barcelona membuka keunggulan pada menit ke-2 melalui gol yang dicetak oleh Philippe Coutinho. Lionel Messi menggandakan keunggulan Barcelona, 10 menit berselang.  Namun, nahas bagi Barcelona, karena Messi harus ditarik keluar pada menit ke-26 setelah mengalami cedera. Tanpa Messi, skor 2-0 bertahan hingga babak pertama berakhir.\n"
     ]
    }
   ],
   "source": [
    "# Question\n",
    "paragraf = \"Barcelona berhasil merebut posisi puncak klasemen La Liga Spanyol seusai menang 4-2 atas Sevilla pada pertandingan pekan kesembilan di Stadion Camp Nou, Sabtu (20/10/2018) atau Minggu dini hari WIB. Barcelona membuka keunggulan pada menit ke-2 melalui gol yang dicetak oleh Philippe Coutinho. Lionel Messi menggandakan keunggulan Barcelona, 10 menit berselang.  Namun, nahas bagi Barcelona, karena Messi harus ditarik keluar pada menit ke-26 setelah mengalami cedera. Tanpa Messi, skor 2-0 bertahan hingga babak pertama berakhir.\"\n",
    "print(paragraf)"
   ]
  },
  {
   "cell_type": "code",
   "execution_count": 50,
   "metadata": {},
   "outputs": [
    {
     "name": "stdout",
     "output_type": "stream",
     "text": [
      "barcelona berhasil merebut posisi puncak klasemen la liga spanyol seusai menang 4 2 atas sevilla pada pertandingan pekan kesembilan di stadion camp nou  sabtu  20 10 2018  atau minggu dini hari wib. barcelona membuka keunggulan pada menit ke 2 melalui gol yang dicetak oleh philippe coutinho. lionel messi menggandakan keunggulan barcelona  10 menit berselang.  namun  nahas bagi barcelona  karena messi harus ditarik keluar pada menit ke 26 setelah mengalami cedera. tanpa messi  skor 2 0 bertahan hingga babak pertama berakhir.\n"
     ]
    }
   ],
   "source": [
    "# Erasing punctuation marks\n",
    "paragraf = paragraf.lower ()\n",
    "paragraf = paragraf.replace('-',' ')\n",
    "paragraf = paragraf.replace(',',' ')\n",
    "paragraf = paragraf.replace('(',' ')\n",
    "paragraf = paragraf.replace(')',' ')\n",
    "paragraf = paragraf.replace('/',' ')\n",
    "print(paragraf)"
   ]
  },
  {
   "cell_type": "code",
   "execution_count": 56,
   "metadata": {
    "scrolled": true
   },
   "outputs": [
    {
     "name": "stdout",
     "output_type": "stream",
     "text": [
      "['barcelona berhasil merebut posisi puncak klasemen la liga spanyol seusai menang 4 2 atas sevilla pada pertandingan pekan kesembilan di stadion camp nou  sabtu  20 10 2018  atau minggu dini hari wib', ' barcelona membuka keunggulan pada menit ke 2 melalui gol yang dicetak oleh philippe coutinho', ' lionel messi menggandakan keunggulan barcelona  10 menit berselang', '  namun  nahas bagi barcelona  karena messi harus ditarik keluar pada menit ke 26 setelah mengalami cedera', ' tanpa messi  skor 2 0 bertahan hingga babak pertama berakhir', '']\n"
     ]
    }
   ],
   "source": [
    "# Dividing into Sentences \n",
    "kalimat = paragraf.split(\".\")\n",
    "print(kalimat)"
   ]
  },
  {
   "cell_type": "code",
   "execution_count": 57,
   "metadata": {
    "scrolled": true
   },
   "outputs": [
    {
     "name": "stdout",
     "output_type": "stream",
     "text": [
      "[['barcelona', 'berhasil', 'merebut', 'posisi', 'puncak', 'klasemen', 'la', 'liga', 'spanyol', 'seusai', 'menang', '4', '2', 'atas', 'sevilla', 'pada', 'pertandingan', 'pekan', 'kesembilan', 'di', 'stadion', 'camp', 'nou', 'sabtu', '20', '10', '2018', 'atau', 'minggu', 'dini', 'hari', 'wib'], ['barcelona', 'membuka', 'keunggulan', 'pada', 'menit', 'ke', '2', 'melalui', 'gol', 'yang', 'dicetak', 'oleh', 'philippe', 'coutinho'], ['lionel', 'messi', 'menggandakan', 'keunggulan', 'barcelona', '10', 'menit', 'berselang'], ['namun', 'nahas', 'bagi', 'barcelona', 'karena', 'messi', 'harus', 'ditarik', 'keluar', 'pada', 'menit', 'ke', '26', 'setelah', 'mengalami', 'cedera'], ['tanpa', 'messi', 'skor', '2', '0', 'bertahan', 'hingga', 'babak', 'pertama', 'berakhir'], []]\n"
     ]
    }
   ],
   "source": [
    "# Splitting into Words\n",
    "kata = []\n",
    "for k in kalimat:\n",
    "    kata.append (k.strip().split())\n",
    "print(kata)"
   ]
  },
  {
   "cell_type": "code",
   "execution_count": 58,
   "metadata": {},
   "outputs": [
    {
     "name": "stdout",
     "output_type": "stream",
     "text": [
      "['barcelona', 'berhasil', 'merebut', 'posisi', 'puncak', 'klasemen', 'la', 'liga', 'spanyol', 'seusai', 'menang', '4', '2', 'atas', 'sevilla', 'pada', 'pertandingan', 'pekan', 'kesembilan', 'di', 'stadion', 'camp', 'nou', 'sabtu', '20', '10', '2018', 'atau', 'minggu', 'dini', 'hari', 'wib', 'barcelona', 'membuka', 'keunggulan', 'pada', 'menit', 'ke', '2', 'melalui', 'gol', 'yang', 'dicetak', 'oleh', 'philippe', 'coutinho', 'lionel', 'messi', 'menggandakan', 'keunggulan', 'barcelona', '10', 'menit', 'berselang', 'namun', 'nahas', 'bagi', 'barcelona', 'karena', 'messi', 'harus', 'ditarik', 'keluar', 'pada', 'menit', 'ke', '26', 'setelah', 'mengalami', 'cedera', 'tanpa', 'messi', 'skor', '2', '0', 'bertahan', 'hingga', 'babak', 'pertama', 'berakhir']\n"
     ]
    }
   ],
   "source": [
    "# Listing the Words\n",
    "listkata = []\n",
    "for l in kata:\n",
    "    listkata = listkata + l\n",
    "print(listkata)"
   ]
  },
  {
   "cell_type": "code",
   "execution_count": 63,
   "metadata": {
    "scrolled": true
   },
   "outputs": [
    {
     "name": "stdout",
     "output_type": "stream",
     "text": [
      "{'berhasil': 1, 'barcelona': 4, 'atau': 1, 'menang': 1, 'posisi': 1, '2': 3, 'kesembilan': 1, 'sabtu': 1, 'oleh': 1, 'camp': 1, 'berselang': 1, 'skor': 1, 'berakhir': 1, 'atas': 1, '20': 1, 'melalui': 1, 'minggu': 1, '10': 2, 'sevilla': 1, 'keunggulan': 2, 'lionel': 1, 'menggandakan': 1, 'karena': 1, 'yang': 1, 'seusai': 1, 'namun': 1, 'keluar': 1, '26': 1, 'cedera': 1, 'hingga': 1, 'pertama': 1, 'babak': 1, 'dicetak': 1, 'pertandingan': 1, 'philippe': 1, 'coutinho': 1, 'dini': 1, 'harus': 1, 'klasemen': 1, 'spanyol': 1, 'tanpa': 1, 'bagi': 1, 'nahas': 1, 'pada': 3, 'gol': 1, 'membuka': 1, 'menit': 3, 'ditarik': 1, 'stadion': 1, '2018': 1, 'messi': 3, 'setelah': 1, 'merebut': 1, 'mengalami': 1, 'la': 1, 'liga': 1, 'pekan': 1, 'bertahan': 1, 'hari': 1, '0': 1, 'puncak': 1, 'nou': 1, 'ke': 2, '4': 1, 'di': 1, 'wib': 1}\n"
     ]
    }
   ],
   "source": [
    "# Using Dictionary \n",
    "oneset = set(listkata)\n",
    "dictionary = {}\n",
    "for k in oneset:\n",
    "    dictionary[k] = listkata.count(k)\n",
    "print(dictionary)"
   ]
  },
  {
   "cell_type": "code",
   "execution_count": 62,
   "metadata": {},
   "outputs": [
    {
     "name": "stdout",
     "output_type": "stream",
     "text": [
      "berhasil : 1\n",
      "barcelona : 4\n",
      "atau : 1\n",
      "menang : 1\n",
      "posisi : 1\n",
      "2 : 3\n",
      "kesembilan : 1\n",
      "sabtu : 1\n",
      "oleh : 1\n",
      "camp : 1\n",
      "berselang : 1\n",
      "skor : 1\n",
      "berakhir : 1\n",
      "atas : 1\n",
      "20 : 1\n",
      "melalui : 1\n",
      "minggu : 1\n",
      "10 : 2\n",
      "sevilla : 1\n",
      "keunggulan : 2\n",
      "lionel : 1\n",
      "menggandakan : 1\n",
      "karena : 1\n",
      "yang : 1\n",
      "seusai : 1\n",
      "namun : 1\n",
      "keluar : 1\n",
      "26 : 1\n",
      "cedera : 1\n",
      "hingga : 1\n",
      "pertama : 1\n",
      "babak : 1\n",
      "dicetak : 1\n",
      "pertandingan : 1\n",
      "philippe : 1\n",
      "coutinho : 1\n",
      "dini : 1\n",
      "harus : 1\n",
      "klasemen : 1\n",
      "spanyol : 1\n",
      "tanpa : 1\n",
      "bagi : 1\n",
      "nahas : 1\n",
      "pada : 3\n",
      "gol : 1\n",
      "membuka : 1\n",
      "menit : 3\n",
      "ditarik : 1\n",
      "stadion : 1\n",
      "2018 : 1\n",
      "messi : 3\n",
      "setelah : 1\n",
      "merebut : 1\n",
      "mengalami : 1\n",
      "la : 1\n",
      "liga : 1\n",
      "pekan : 1\n",
      "bertahan : 1\n",
      "hari : 1\n",
      "0 : 1\n",
      "puncak : 1\n",
      "nou : 1\n",
      "ke : 2\n",
      "4 : 1\n",
      "di : 1\n",
      "wib : 1\n"
     ]
    }
   ],
   "source": [
    "# Results\n",
    "for k,v in dictionary.items():\n",
    "        print(k,':',v)"
   ]
  }
 ],
 "metadata": {
  "kernelspec": {
   "display_name": "Python 3",
   "language": "python",
   "name": "python3"
  },
  "language_info": {
   "codemirror_mode": {
    "name": "ipython",
    "version": 3
   },
   "file_extension": ".py",
   "mimetype": "text/x-python",
   "name": "python",
   "nbconvert_exporter": "python",
   "pygments_lexer": "ipython3",
   "version": "3.7.0"
  }
 },
 "nbformat": 4,
 "nbformat_minor": 2
}
